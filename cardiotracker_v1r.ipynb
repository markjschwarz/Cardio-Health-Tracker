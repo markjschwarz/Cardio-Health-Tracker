{
 "cells": [
  {
   "attachments": {},
   "cell_type": "markdown",
   "metadata": {},
   "source": [
    "## BLOOD PRESSURE / PULSE DATA"
   ]
  },
  {
   "cell_type": "code",
   "execution_count": 1,
   "metadata": {},
   "outputs": [],
   "source": [
    "## MAIN SETTINGS\n",
    "\n",
    "## DATA SOURCES:\n",
    "## Blood Pressure Monitor exported data file (.csv) \n",
    "myfilename = 'C:/Users/............../HealthManagerApp_Dataexport.csv'\n",
    "\n",
    "## DATA OUTPUT:\n",
    "cardio_output_filename = 'C:/Users/.............../cardio_data.csv'\n",
    "cardio_pod_output_filename = 'C:/Users/.............../cardio_data_pod.csv'"
   ]
  },
  {
   "cell_type": "code",
   "execution_count": 3,
   "metadata": {},
   "outputs": [
    {
     "name": "stdout",
     "output_type": "stream",
     "text": [
      "cardio data saving success!\n"
     ]
    }
   ],
   "source": [
    "## CARDIO DATA ##\n",
    "\n",
    "import pandas\n",
    "import csv\n",
    "import datetime\n",
    "from datetime import datetime , timedelta\n",
    "\n",
    "# the first 16 lines contain unecessary metadata\n",
    "df = pandas.read_csv(myfilename, skiprows=16, sep = ';')\n",
    "\n",
    "# dropping some of the uncesessary columns\n",
    "df.drop(df.columns[[6, 7, 9]], axis=1, inplace=True)\n",
    "# creating the Part of the Day (pod) columns\n",
    "df.insert(7, \"pod_date\", 0)\n",
    "df.insert(8,\"pod_type\", ' ')\n",
    "\n",
    "# concatenating the data and time columns to form a datetime string\n",
    "mydate_str = df.loc[0,\"Date\"] + \" \" + df.loc[0,\"Time\"]\n",
    "mydate = datetime.strptime(mydate_str, '%Y-%m-%d %H:%M')\n",
    "\n",
    "## !! THE LATEST DATE is ALWAYS on the TOP !! (it comes in that format)\n",
    "\n",
    "# classifying the part of the day attribute into morning-night-day\n",
    "# challenge: night starts from 18:00 till 02:00 the next day \n",
    "\n",
    "for i in range(len(df)):\n",
    "        mydate_loop =datetime.strptime(df.loc[i,\"Date\"] + \" \" + df.loc[i,\"Time\"],'%Y-%m-%d %H:%M')\n",
    "        if mydate_loop.time()  <= datetime.strptime('02:00', '%H:%M').time():  \n",
    "           \n",
    "            df.loc[i,\"pod_date\"] = mydate_loop.date() - timedelta(1)\n",
    "            df.loc[i,\"pod_type\"] = 'night'\n",
    "        elif mydate_loop.time()  > datetime.strptime('02:00', '%H:%M').time() and mydate_loop.time()  <= datetime.strptime('10:00', '%H:%M').time(): \n",
    "            \n",
    "            df.loc[i,\"pod_date\"] = mydate_loop.date()\n",
    "            df.loc[i,\"pod_type\"] = 'morning'\n",
    "        elif  mydate_loop.time()  > datetime.strptime('10:00', '%H:%M').time() and mydate_loop.time()  <= datetime.strptime('18:00', '%H:%M').time(): \n",
    "            \n",
    "            df.loc[i,\"pod_date\"] = mydate_loop.date()\n",
    "            df.loc[i,\"pod_type\"] = 'day'\n",
    "        else: \n",
    "            \n",
    "            df.loc[i,\"pod_date\"] = mydate_loop.date()\n",
    "            df.loc[i,\"pod_type\"] = 'night'\n",
    "\n",
    "\n",
    "cardio_pivot = pandas.pivot_table(df,index=[\"Date\"], values =[ \"Sys.\",\t\"Dia.\",\t\"Pulse\", \"MAP\" ])\n",
    "cardio_flat = pandas.DataFrame(cardio_pivot.to_records())\n",
    "cardio_pod_pivot = pandas.pivot_table(df,index=[\"pod_date\", \"pod_type\"], values =[ \"Sys.\",\t\"Dia.\",\t\"Pulse\", \"MAP\" ])\n",
    "cardio_pod_flat = pandas.DataFrame(cardio_pod_pivot.to_records())\n",
    "\n",
    "cardio_flat.to_csv(cardio_output_filename, encoding='utf-8')\n",
    "cardio_pod_flat.to_csv(cardio_pod_output_filename, encoding='utf-8')\n",
    "\n",
    "print(\"cardio data saving success!\")\n",
    "#print(cardio_pod_flat)"
   ]
  },
  {
   "attachments": {},
   "cell_type": "markdown",
   "metadata": {},
   "source": [
    "## BODYWEIGHT DATA\n"
   ]
  },
  {
   "cell_type": "code",
   "execution_count": 4,
   "metadata": {},
   "outputs": [],
   "source": [
    "## SETTINGS\n",
    "myfilename = 'C:/Users/.........../sourcefilename.csv'\n",
    "my_output_filename = 'C:/Users/........../bodyweight_data.csv'"
   ]
  },
  {
   "cell_type": "code",
   "execution_count": 5,
   "metadata": {},
   "outputs": [
    {
     "name": "stdout",
     "output_type": "stream",
     "text": [
      "bodyweight data saving success!\n"
     ]
    }
   ],
   "source": [
    "## Bodyweight data transformation\n",
    "\n",
    "import pandas\n",
    "import csv\n",
    "import datetime\n",
    "from datetime import datetime , timedelta, date\n",
    "\n",
    "\n",
    "df = pandas.read_csv(myfilename, skiprows=2450, sep = ',')\n",
    "df = df.iloc[:, [1, 4]]\n",
    "df.rename(columns = {'2022-Oct-02':'Date', 'Unnamed: 4':'BodyWeight'}, inplace = True)\n",
    "df['Date']=pandas.to_datetime(df['Date'])\n",
    "rslt_df = df[df['Date'] < pandas.to_datetime('today')]\n",
    "\n",
    "rslt_df.to_csv(my_output_filename, encoding='utf-8')\n",
    "\n",
    "print(\"bodyweight data saving success!\")"
   ]
  }
 ],
 "metadata": {
  "kernelspec": {
   "display_name": "Python 3",
   "language": "python",
   "name": "python3"
  },
  "language_info": {
   "codemirror_mode": {
    "name": "ipython",
    "version": 3
   },
   "file_extension": ".py",
   "mimetype": "text/x-python",
   "name": "python",
   "nbconvert_exporter": "python",
   "pygments_lexer": "ipython3",
   "version": "3.10.11"
  },
  "orig_nbformat": 4
 },
 "nbformat": 4,
 "nbformat_minor": 2
}
